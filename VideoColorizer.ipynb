{
 "cells": [
  {
   "cell_type": "markdown",
   "metadata": {},
   "source": [
    "# Пример раскрашивания черно-белого фильма с помощью Vision Mail.ru\n",
    "\n",
    "К 9 Мая MAIL.RU запустил онлайн-сервис для реставрации старых фотографий.\n",
    "https://9may.mail.ru/\n",
    "\n",
    "В основе сервиса - модель по реставрации изображений, которая делает следующее:\n",
    "\n",
    "1. находит все дефекты изображения: надломы, потертости, дырки;\n",
    "2. закрашивает найденные дефекты, основываясь на значениях пикселей вокруг них;\n",
    "3. раскрашивает изображение.\n",
    "\n",
    "##  Раскрасим военный фильм с помощью этой модели\n",
    "Будем действовать по следующему алгоритму:\n",
    "\n",
    "1. посмотрим как изменится запрос в Vision и отправим изображение\n",
    "2. посмотрим как изменится ответ\n",
    "3. напишем новый парсер ответа\n",
    "4. посмотрим работу с видеофайлами\n",
    "5. попробуем отправить запросы для каждого кадра\n",
    "6. запишем рузельтат в видеофайл"
   ]
  },
  {
   "cell_type": "markdown",
   "metadata": {},
   "source": [
    "Для авторизации в https://mcs.mail.ru/app/services/machinelearning/ нам также понадобится сервисный токен"
   ]
  },
  {
   "cell_type": "code",
   "execution_count": null,
   "metadata": {},
   "outputs": [],
   "source": [
    "token = \"ahdps5M7sEXjBpR7cd4U9jP3yFHS7dYwVhrsv76VBC2d1veKm\""
   ]
  },
  {
   "cell_type": "markdown",
   "metadata": {},
   "source": [
    "1. Будем использовать метод $\\textbf{v1/photo/improve}$"
   ]
  },
  {
   "cell_type": "code",
   "execution_count": null,
   "metadata": {},
   "outputs": [],
   "source": [
    "HOST = \"https://smarty.mail.ru/api/v1/photo/improve\""
   ]
  },
  {
   "cell_type": "markdown",
   "metadata": {},
   "source": [
    "Тогда функция запроса будет выглядеть следующим образом (подробнее https://mcs.mail.ru/help/image-processing/improve): "
   ]
  },
  {
   "cell_type": "code",
   "execution_count": null,
   "metadata": {},
   "outputs": [],
   "source": [
    "def request_backend(img, token):\n",
    "    files = {}\n",
    "    name = \"file_0\"\n",
    "    files[name] = img\n",
    "        \n",
    "    meta = {\n",
    "            \"mode\":[\"improve\"],\n",
    "            \"images\": [{\"name\": name}]\n",
    "           }\n",
    "                                                              \n",
    "    data = {'meta': json.dumps(meta)}\n",
    "    response = requests.post(HOST + \"?oauth_provider=mcs&oauth_token={}\" \\\n",
    "                      .format(token), data=data, files=files)\n",
    "\n",
    "    return response"
   ]
  },
  {
   "cell_type": "markdown",
   "metadata": {},
   "source": [
    "Возьмём черно-белую фотографию военных времен для тестов"
   ]
  },
  {
   "cell_type": "code",
   "execution_count": null,
   "metadata": {},
   "outputs": [],
   "source": [
    "import cv2\n",
    "import matplotlib.pyplot as plt\n",
    "%matplotlib inline\n",
    "\n",
    "img = cv2.imread(\"war.jpg\")\n",
    "img = cv2.cvtColor(img, cv2.COLOR_BGR2RGB) \n",
    "plt.figure(figsize=(16,10))\n",
    "\n",
    "plt.axis(\"off\")\n",
    "plt.imshow(img)\n",
    "plt.show()"
   ]
  },
  {
   "cell_type": "markdown",
   "metadata": {},
   "source": [
    "Отправим её в Vision и получим следующий ответ"
   ]
  },
  {
   "cell_type": "code",
   "execution_count": null,
   "metadata": {},
   "outputs": [],
   "source": [
    "import json\n",
    "import requests\n",
    "import pprint as pp\n",
    "\n",
    "img = open(\"war.jpg\", 'rb')\n",
    "r = request_backend(img, token)\n",
    "pp.pprint(r.json())\n",
    "img.close()"
   ]
  },
  {
   "cell_type": "markdown",
   "metadata": {},
   "source": [
    "Картинка в ответе возвращается в формате base64, поэтому добавим конвертацию"
   ]
  },
  {
   "cell_type": "code",
   "execution_count": null,
   "metadata": {},
   "outputs": [],
   "source": [
    "def from_base64(base64_data):\n",
    "    nparr = np.frombuffer(base64.b64decode(base64_data), np.uint8)\n",
    "    img = cv2.imdecode(nparr, cv2.IMREAD_COLOR)\n",
    "    return img\n",
    "\n",
    "\n",
    "def parse_response(response):\n",
    "    json_data = response.json()\n",
    "    status = json_data['status']\n",
    "    \n",
    "    if status == 200:\n",
    "        body = json_data['body']\n",
    "        improve = body['improve'][0]\n",
    "        \n",
    "        if improve['status'] != 0:\n",
    "            print(improve['status'])\n",
    "            print(improve['error'])\n",
    "            \n",
    "        if  'colorized_improved' in improve:\n",
    "            base64_image = improve['colorized_improved']\n",
    "        if 'colorized' in improve:\n",
    "            base64_image = improve['colorized']\n",
    "            \n",
    "        img = from_base64(base64_image)\n",
    "            \n",
    "\n",
    "    return status, img"
   ]
  },
  {
   "cell_type": "markdown",
   "metadata": {},
   "source": [
    "Отрисуем результат работы модели"
   ]
  },
  {
   "cell_type": "code",
   "execution_count": null,
   "metadata": {},
   "outputs": [],
   "source": [
    "import base64\n",
    "import numpy as np\n",
    "\n",
    "img = open(\"war.jpg\", 'rb')\n",
    "response = request_backend(img, token)\n",
    "status, image = parse_response(response)\n",
    "\n",
    "image = cv2.cvtColor(image, cv2.COLOR_BGR2RGB)\n",
    "\n",
    "plt.figure(figsize=(16,10))\n",
    "plt.axis(\"off\")\n",
    "plt.imshow(image)\n",
    "plt.show()\n",
    "\n",
    "img.close()"
   ]
  },
  {
   "cell_type": "markdown",
   "metadata": {},
   "source": [
    "Рассмотрим работу с видеофайлом на примере opencv. Выведем первых 5 кадров."
   ]
  },
  {
   "cell_type": "code",
   "execution_count": null,
   "metadata": {},
   "outputs": [],
   "source": [
    "input_file = \"smuglyanka.mp4\""
   ]
  },
  {
   "cell_type": "code",
   "execution_count": null,
   "metadata": {},
   "outputs": [],
   "source": [
    "cap = cv2.VideoCapture(input_file)\n",
    "\n",
    "num_frames = int(cap.get(cv2.CAP_PROP_FRAME_COUNT))\n",
    "# рассмотрим первые 6 фреймов\n",
    "num_frames = min(num_frames, 6)\n",
    "\n",
    "for iFrame in range(num_frames):\n",
    "    ret, frame = cap.read()\n",
    "\n",
    "cap.release()"
   ]
  },
  {
   "cell_type": "markdown",
   "metadata": {},
   "source": [
    "Отрисуем первые 6 кадров"
   ]
  },
  {
   "cell_type": "code",
   "execution_count": null,
   "metadata": {},
   "outputs": [],
   "source": [
    "def drawFrame(iFrame, image, fig):\n",
    "    image = cv2.cvtColor(image, cv2.COLOR_BGR2RGB)\n",
    "    fig.add_subplot(1, 6, iFrame + 1)\n",
    "    plt.axis(\"off\")\n",
    "    plt.imshow(image)\n",
    "    \n",
    "cap = cv2.VideoCapture(input_file)\n",
    "\n",
    "num_frames = int(cap.get(cv2.CAP_PROP_FRAME_COUNT))\n",
    "num_frames = min(num_frames, 6)\n",
    "\n",
    "fig = plt.figure(figsize=(16, 16))\n",
    "\n",
    "for iFrame in range(num_frames):\n",
    "\n",
    "    ret, frame = cap.read()\n",
    "    drawFrame(iFrame, frame, fig)\n",
    "\n",
    "plt.show()\n",
    "cap.release()"
   ]
  },
  {
   "cell_type": "markdown",
   "metadata": {},
   "source": [
    "Отправим первые 6 кадров в запросе к Vision"
   ]
  },
  {
   "cell_type": "code",
   "execution_count": null,
   "metadata": {},
   "outputs": [],
   "source": [
    "cap = cv2.VideoCapture(input_file)\n",
    "\n",
    "num_frames = int(cap.get(cv2.CAP_PROP_FRAME_COUNT))\n",
    "# рассмотрим первые 6 фреймов\n",
    "num_frames = min(num_frames, 6)\n",
    "\n",
    "fig = plt.figure(figsize=(16, 16))\n",
    "\n",
    "for iFrame in range(num_frames):\n",
    "    ret, frame = cap.read()\n",
    "    \n",
    "    buf = cv2.imencode('.jpg', frame)[1].tostring()\n",
    "    \n",
    "    response = request_backend(buf, token)\n",
    "    status, image = parse_response(response)\n",
    "\n",
    "    if status != 200:\n",
    "        print(status)\n",
    "        continue\n",
    "    \n",
    "    drawFrame(iFrame, image, fig)\n",
    "\n",
    "cap.release()\n",
    "plt.show()"
   ]
  },
  {
   "cell_type": "markdown",
   "metadata": {},
   "source": [
    "Из полученных кадров сделаем видеофайл"
   ]
  },
  {
   "cell_type": "code",
   "execution_count": null,
   "metadata": {},
   "outputs": [],
   "source": [
    "output_file = \"output.avi\""
   ]
  },
  {
   "cell_type": "code",
   "execution_count": null,
   "metadata": {},
   "outputs": [],
   "source": [
    "from tqdm import tqdm_notebook\n",
    "\n",
    "cap = cv2.VideoCapture(input_file)\n",
    "\n",
    "fps = int(cap.get(cv2.CAP_PROP_FPS))\n",
    "frame_width = int(cap.get(cv2.CAP_PROP_FRAME_WIDTH))\n",
    "frame_height = int(cap.get(cv2.CAP_PROP_FRAME_HEIGHT))\n",
    "num_frames = int(cap.get(cv2.CAP_PROP_FRAME_COUNT))\n",
    "\n",
    "out = cv2.VideoWriter(output_file,\n",
    "                      cv2.VideoWriter_fourcc('M','J','P','G'),\n",
    "                      fps,\n",
    "                      (frame_width, frame_height))\n",
    "\n",
    "for iFrame in tqdm_notebook(range(num_frames)):\n",
    "    ret, frame = cap.read()\n",
    "    \n",
    "    if iFrame < 3000:\n",
    "        continue\n",
    "    \n",
    "    if frame is not None:\n",
    "        buf = cv2.imencode('.jpg', frame)[1].tostring()\n",
    "        response = request_backend(buf, token)\n",
    "        status, image = parse_response(response)\n",
    "        \n",
    "        if status != 200:\n",
    "            print(status)\n",
    "            continue\n",
    "        \n",
    "        out.write(image)\n",
    "        \n",
    "        # пока, чтобы много денег не тратить!\n",
    "        if iFrame > 3010: #3800\n",
    "            break\n",
    "\n",
    "cap.release()\n",
    "out.release()"
   ]
  }
 ],
 "metadata": {
  "kernelspec": {
   "display_name": "Python 3",
   "language": "python",
   "name": "python3"
  },
  "language_info": {
   "codemirror_mode": {
    "name": "ipython",
    "version": 3
   },
   "file_extension": ".py",
   "mimetype": "text/x-python",
   "name": "python",
   "nbconvert_exporter": "python",
   "pygments_lexer": "ipython3",
   "version": "3.6.5"
  }
 },
 "nbformat": 4,
 "nbformat_minor": 2
}
