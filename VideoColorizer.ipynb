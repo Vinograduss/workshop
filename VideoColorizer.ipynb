{
 "cells": [
  {
   "cell_type": "code",
   "execution_count": 122,
   "metadata": {},
   "outputs": [],
   "source": [
    "import json\n",
    "import base64\n",
    "import requests\n",
    "import matplotlib.pyplot as plt\n",
    "%matplotlib inline"
   ]
  },
  {
   "cell_type": "code",
   "execution_count": 121,
   "metadata": {},
   "outputs": [],
   "source": [
    "token = \"ahdps5M7sEXjBpR7cd4U9jP3yFHS7dYwVhrsv76VBC2d1veKm\"\n",
    "HOST = \"https://smarty.mail.ru/api/v1/photo/improve\"\n",
    "\n",
    "input_file = \"test.mp4\"\n",
    "output_file = \"output.avi\""
   ]
  },
  {
   "cell_type": "code",
   "execution_count": 95,
   "metadata": {},
   "outputs": [],
   "source": [
    "def request_backend(img, token):\n",
    "    files = {}\n",
    "    name = \"file_0\"\n",
    "    files[name] = img\n",
    "        \n",
    "    meta = {\n",
    "            \"mode\":[\"improve\"],\n",
    "            \"images\": [{\"name\": name}]\n",
    "           }\n",
    "                                                              \n",
    "    data = {'meta': json.dumps(meta)}\n",
    "    response = requests.post(HOST + \"?oauth_provider=mcs&oauth_token={}\" \\\n",
    "                      .format(token), data=data, files=files)\n",
    "\n",
    "    return response"
   ]
  },
  {
   "cell_type": "code",
   "execution_count": 123,
   "metadata": {},
   "outputs": [],
   "source": [
    "def from_base64(base64_data):\n",
    "    nparr = np.fromstring(base64.b64decode(base64_data), np.uint8)\n",
    "    img = cv2.imdecode(nparr, cv2.IMREAD_COLOR)\n",
    "    return img\n",
    "    #return cv2.cvtColor(img, cv2.COLOR_BGR2RGB)\n",
    "\n",
    "def parse_response(response):\n",
    "    body = response.json()['body']\n",
    "    improve = body['improve']\n",
    "    base64_image = improve[0]['colorized_improved']\n",
    "    img = from_base64(base64_image)\n",
    "    return img"
   ]
  },
  {
   "cell_type": "code",
   "execution_count": 118,
   "metadata": {},
   "outputs": [
    {
     "name": "stdout",
     "output_type": "stream",
     "text": [
      "<VideoCapture 0x11ae6f9d0>\n"
     ]
    },
    {
     "name": "stderr",
     "output_type": "stream",
     "text": [
      "/usr/local/lib/python3.6/site-packages/ipykernel_launcher.py:5: DeprecationWarning: The binary mode of fromstring is deprecated, as it behaves surprisingly on unicode inputs. Use frombuffer instead\n",
      "  \"\"\"\n"
     ]
    }
   ],
   "source": [
    "cap = cv2.VideoCapture(input_file)\n",
    "\n",
    "fps = int(cap.get(cv2.CAP_PROP_FPS))\n",
    "frame_width = int(cap.get(3))\n",
    "frame_height = int(cap.get(4))\n",
    "\n",
    "out = cv2.VideoWriter(output_file,\n",
    "                      cv2.VideoWriter_fourcc('M','J','P','G'),\n",
    "                      fps,\n",
    "                      (frame_width, frame_height))\n",
    "iFrame = 0\n",
    "\n",
    "while(cap.isOpened()):\n",
    "    ret, frame = cap.read()\n",
    "    # если цветное видео\n",
    "    frame = cv2.cvtColor(frame, cv2.COLOR_BGR2GRAY) \n",
    "    \n",
    "    iFrame += 1\n",
    "    if frame is not None:\n",
    "        buf = cv2.imencode('.jpg', frame)[1].tostring()\n",
    "        response = request_backend(buf, token)\n",
    "        image = parse_response(response)\n",
    "        \n",
    "        out.write(image)\n",
    "        \n",
    "        # пока, чтобы много денег не тратить!\n",
    "        if iFrame > 3:\n",
    "            break\n",
    "\n",
    "cap.release()\n",
    "out.release()"
   ]
  }
 ],
 "metadata": {
  "kernelspec": {
   "display_name": "Python 3",
   "language": "python",
   "name": "python3"
  },
  "language_info": {
   "codemirror_mode": {
    "name": "ipython",
    "version": 3
   },
   "file_extension": ".py",
   "mimetype": "text/x-python",
   "name": "python",
   "nbconvert_exporter": "python",
   "pygments_lexer": "ipython3",
   "version": "3.6.5"
  }
 },
 "nbformat": 4,
 "nbformat_minor": 2
}
