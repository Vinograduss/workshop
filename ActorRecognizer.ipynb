{
 "cells": [
  {
   "cell_type": "markdown",
   "metadata": {},
   "source": [
    "## Создание умной галереи с помощью распознавания лиц Vision Mail.ru"
   ]
  },
  {
   "cell_type": "markdown",
   "metadata": {},
   "source": [
    "#### Базовый пример: отправка 1 запроса в Vision API"
   ]
  },
  {
   "cell_type": "markdown",
   "metadata": {},
   "source": [
    "План:\n",
    "1. Напишем функцию для отправки запроса\n",
    "2. Напишем функцию для обработки ответа\n",
    "3. Прочитаем картинку с диска\n",
    "4. Сделаем запрос, выведем результат"
   ]
  },
  {
   "cell_type": "code",
   "execution_count": null,
   "metadata": {},
   "outputs": [],
   "source": [
    "import json\n",
    "import requests\n",
    "import pprint as pp"
   ]
  },
  {
   "cell_type": "markdown",
   "metadata": {},
   "source": [
    "<Текст от Юлианы про REST API...>\n",
    "* Устройство API\n",
    "* Виды запросов\n",
    "* Ссылка на документацию"
   ]
  },
  {
   "cell_type": "code",
   "execution_count": null,
   "metadata": {},
   "outputs": [],
   "source": [
    "token = \"YOUR_SERVICE_TOKEN_HERE\"\n",
    "\n",
    "HOST = \"https://smarty.mail.ru/api/v1/persons/recognize\""
   ]
  },
  {
   "cell_type": "code",
   "execution_count": null,
   "metadata": {},
   "outputs": [],
   "source": [
    "def request_backend(img, token):\n",
    "    files = {}\n",
    "    name = \"file_0\"\n",
    "    files[name] = img\n",
    "        \n",
    "    meta = {\n",
    "            \"space\":\"0\",\n",
    "            \"images\": [{\"name\": name}]\n",
    "           }\n",
    "\n",
    "    data = {'meta': json.dumps(meta)}\n",
    "    response = requests.post(HOST + \"?oauth_provider=mcs&oauth_token={}\" \\\n",
    "                      .format(token), data=data, files=files)\n",
    "\n",
    "    return response"
   ]
  },
  {
   "cell_type": "markdown",
   "metadata": {},
   "source": [
    "<Текст про чтение изображений и вставку их в запрос>"
   ]
  },
  {
   "cell_type": "code",
   "execution_count": null,
   "metadata": {},
   "outputs": [],
   "source": [
    "image_filename = \"test.png\""
   ]
  },
  {
   "cell_type": "code",
   "execution_count": null,
   "metadata": {},
   "outputs": [],
   "source": [
    "img = open(image_filename, 'rb')\n",
    "r = request_backend(img, token)\n",
    "img.close()"
   ]
  },
  {
   "cell_type": "code",
   "execution_count": null,
   "metadata": {},
   "outputs": [],
   "source": [
    "pp.pprint(r.json())"
   ]
  },
  {
   "cell_type": "markdown",
   "metadata": {},
   "source": [
    "<Текст про OpenCV>"
   ]
  },
  {
   "cell_type": "markdown",
   "metadata": {},
   "source": [
    "Чтение и отрисовка картинки"
   ]
  },
  {
   "cell_type": "code",
   "execution_count": null,
   "metadata": {},
   "outputs": [],
   "source": [
    "import cv2\n",
    "\n",
    "import matplotlib.pyplot as plt\n",
    "%matplotlib inline"
   ]
  },
  {
   "cell_type": "code",
   "execution_count": null,
   "metadata": {},
   "outputs": [],
   "source": [
    "image = cv2.imread(image_filename)\n",
    "image = cv2.cvtColor(image, cv2.COLOR_BGR2RGB)"
   ]
  },
  {
   "cell_type": "code",
   "execution_count": null,
   "metadata": {},
   "outputs": [],
   "source": [
    "plt.figure(figsize=(20, 5))\n",
    "plt.imshow(image, interpolation=\"lanczos\")\n",
    "plt.axis('off')\n",
    "plt.show()"
   ]
  },
  {
   "cell_type": "code",
   "execution_count": null,
   "metadata": {},
   "outputs": [],
   "source": [
    "def numpy_to_binary(image):\n",
    "    return cv2.imencode('.jpg', image)[1].tostring()"
   ]
  },
  {
   "cell_type": "code",
   "execution_count": null,
   "metadata": {},
   "outputs": [],
   "source": [
    "r = request_backend(numpy_to_binary(image), token)\n",
    "pp.pprint(r.json())"
   ]
  },
  {
   "cell_type": "markdown",
   "metadata": {},
   "source": [
    "#### Пример: создание умной галереи из пользовательских фотографий"
   ]
  },
  {
   "cell_type": "markdown",
   "metadata": {},
   "source": [
    "Сделаем следующую задачу: найдем всех уникальных персон в галерее и \"разложим\" фотографии так, чтобы можно было увидеть все фотографии с ними."
   ]
  },
  {
   "cell_type": "markdown",
   "metadata": {},
   "source": [
    "План:\n",
    "1. Имеется набор фотографий с людьми\n",
    "2. Построим базу \"персон\" по фотографиям с помощью Vision API\n",
    "3. Отсортируем полученные персоны по числу появлений на фотографиях\n",
    "4. Отрисуем результаты"
   ]
  },
  {
   "cell_type": "markdown",
   "metadata": {},
   "source": [
    "1. Посмотрим на данные"
   ]
  },
  {
   "cell_type": "code",
   "execution_count": null,
   "metadata": {},
   "outputs": [],
   "source": [
    "import cv2\n",
    "import glob\n",
    "import matplotlib.pyplot as plt"
   ]
  },
  {
   "cell_type": "code",
   "execution_count": null,
   "metadata": {},
   "outputs": [],
   "source": [
    "image_names = glob.glob(\"./got/*.*\")\n",
    "images = [cv2.cvtColor(cv2.imread(name), cv2.COLOR_BGR2RGB) for name in image_names]\n",
    "print(\"Total {} images\".format(len(images)))"
   ]
  },
  {
   "cell_type": "code",
   "execution_count": null,
   "metadata": {},
   "outputs": [],
   "source": [
    "num_to_show = 20\n",
    "n_cols = 4\n",
    "n_rows = num_to_show // n_cols\n",
    "\n",
    "plt.figure(figsize=(25, n_rows * 5))\n",
    "for i, image in enumerate(images[:num_to_show], 1):\n",
    "    plt.subplot(n_rows, n_cols, i)\n",
    "    plt.imshow(image, interpolation=\"lanczos\")\n",
    "    plt.axis(\"off\")\n",
    "plt.tight_layout()\n",
    "plt.show()"
   ]
  },
  {
   "cell_type": "markdown",
   "metadata": {},
   "source": [
    "Скорректируем функцию для отправки запроса в Vision API: теперь необходимо установить флаг `\"create_new\": True` для построения \"базы персон\" (по умолчанию этого не происходит)."
   ]
  },
  {
   "cell_type": "code",
   "execution_count": null,
   "metadata": {},
   "outputs": [],
   "source": [
    "def request_backend(img, token):\n",
    "    files = {}\n",
    "    name = \"file_0\"\n",
    "    files[name] = img\n",
    "        \n",
    "    meta = {\n",
    "            \"space\":\"4\",\n",
    "            \"create_new\": True,\n",
    "            \"images\": [{\"name\": name}],\n",
    "           }\n",
    "                                                              \n",
    "    data = {'meta': json.dumps(meta)}\n",
    "    response = requests.post(HOST + \"?oauth_provider=mcs&oauth_token={}\" \\\n",
    "                      .format(token), data=data, files=files)\n",
    "\n",
    "    return response"
   ]
  },
  {
   "cell_type": "markdown",
   "metadata": {},
   "source": [
    "Также напишем функцию для обработки ответа, которая будет забирать из него имя найденной персоны (`person1`, `person2`, ...) и координаты лица."
   ]
  },
  {
   "cell_type": "code",
   "execution_count": null,
   "metadata": {},
   "outputs": [],
   "source": [
    "def parse_response(response):\n",
    "    json_data = r.json()\n",
    "    objects = json_data['body']['objects']\n",
    "    tags = []\n",
    "    bboxes = []\n",
    "    \n",
    "    for obj in objects:\n",
    "        persons = obj['persons']\n",
    "        for person in persons:\n",
    "            tags.append(person['tag'])\n",
    "            bboxes.append(person['coord'])\n",
    "        \n",
    "    return tags, bboxes"
   ]
  },
  {
   "cell_type": "code",
   "execution_count": null,
   "metadata": {},
   "outputs": [],
   "source": [
    "r = request_backend(numpy_to_binary(images[0]), token)\n",
    "tags, bboxes = parse_response(r)\n",
    "print(tags)\n",
    "print(bboxes)"
   ]
  },
  {
   "cell_type": "markdown",
   "metadata": {},
   "source": [
    "Теперь построим индекс по всем фотографиям в галерее:\n",
    "1. Каждую фотографию отправим в `Vision API`, получим имена персон и координаты лиц\n",
    "2. Положим их в словарь вида `{\"person1\" : [(image_1, bbox_1), (image_2, bbox_2), ...], \"person2\": [...], ...}`"
   ]
  },
  {
   "cell_type": "code",
   "execution_count": null,
   "metadata": {},
   "outputs": [],
   "source": [
    "import tqdm\n",
    "from collections import defaultdict"
   ]
  },
  {
   "cell_type": "code",
   "execution_count": null,
   "metadata": {},
   "outputs": [],
   "source": [
    "person_index = defaultdict(list)"
   ]
  },
  {
   "cell_type": "code",
   "execution_count": null,
   "metadata": {},
   "outputs": [],
   "source": [
    "for i, image in enumerate(tqdm.tqdm(images)):\n",
    "    r = request_backend(numpy_to_binary(image), token)\n",
    "    persons, bboxes = parse_response(r)\n",
    "    for person, bbox in zip(persons, bboxes):\n",
    "        person_index[person].append({\"image_idx\": i, \n",
    "                                     \"bbox\": bbox})"
   ]
  },
  {
   "cell_type": "code",
   "execution_count": null,
   "metadata": {},
   "outputs": [],
   "source": [
    "pp.pprint(list(person_index.items())[0])"
   ]
  },
  {
   "cell_type": "markdown",
   "metadata": {},
   "source": [
    "Теперь отрисуем полученных персон в порядке убывания числа фотографий с ними (возьмем первые 10):"
   ]
  },
  {
   "cell_type": "code",
   "execution_count": null,
   "metadata": {},
   "outputs": [],
   "source": [
    "def draw_bbox(image, bbox):\n",
    "    x1, y1, x2, y2 = bbox\n",
    "    image_copy = image.copy()\n",
    "    image_copy = cv2.rectangle(image_copy, (x1, y1), (x2, y2), (0, 255, 127), 8)\n",
    "    return image_copy"
   ]
  },
  {
   "cell_type": "code",
   "execution_count": null,
   "metadata": {},
   "outputs": [],
   "source": [
    "num_to_show = 5\n",
    "\n",
    "for i, (person, person_results) in enumerate(sorted(person_index.items(), key=lambda x: len(x[1]), reverse=True)[:num_to_show]):\n",
    "    \n",
    "    print(\"= = = \", person, \"= = =\")\n",
    "    \n",
    "    num_cols = 4\n",
    "    num_rows = 1 + len(person_results) // num_cols\n",
    "    plt.figure(figsize=(20, 4 * num_rows))    \n",
    "    for j, result in enumerate(person_results, 1):\n",
    "        i = result[\"image_idx\"]\n",
    "        bbox = result[\"bbox\"]\n",
    "        image = images[i]\n",
    "        image = draw_bbox(image, bbox)\n",
    "        plt.subplot(num_rows, num_cols, j)\n",
    "        plt.imshow(image, interpolation=\"gaussian\")\n",
    "        plt.axis(\"off\")\n",
    "    plt.tight_layout()\n",
    "    plt.show()"
   ]
  },
  {
   "cell_type": "code",
   "execution_count": null,
   "metadata": {},
   "outputs": [],
   "source": []
  }
 ],
 "metadata": {
  "kernelspec": {
   "display_name": "Python 3",
   "language": "python",
   "name": "python3"
  },
  "language_info": {
   "codemirror_mode": {
    "name": "ipython",
    "version": 3
   },
   "file_extension": ".py",
   "mimetype": "text/x-python",
   "name": "python",
   "nbconvert_exporter": "python",
   "pygments_lexer": "ipython3",
   "version": "3.6.5"
  }
 },
 "nbformat": 4,
 "nbformat_minor": 2
}
